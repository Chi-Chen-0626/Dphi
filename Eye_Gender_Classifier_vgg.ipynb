{
  "nbformat": 4,
  "nbformat_minor": 0,
  "metadata": {
    "colab": {
      "name": "Eye_Gender_Classifier.ipynb",
      "provenance": [],
      "collapsed_sections": []
    },
    "kernelspec": {
      "name": "python3",
      "display_name": "Python 3"
    },
    "accelerator": "GPU"
  },
  "cells": [
    {
      "cell_type": "markdown",
      "metadata": {
        "id": "SfMK5FEhUGde"
      },
      "source": [
        "## Download the images\n",
        "\n",
        "\n",
        "We can use **GoogleDriveDownloader** form **google_drive_downloader** library in Python to download the shared files from the shared Google drive link: https://drive.google.com/file/d/1f7uslI-ZHidriQFZR966_aILjlkgDN76/view?usp=sharing\n",
        "\n",
        "The file id in the above link is: **1f7uslI-ZHidriQFZR966_aILjlkgDN76**"
      ]
    },
    {
      "cell_type": "code",
      "metadata": {
        "id": "5_1BysB4Re7f",
        "colab": {
          "base_uri": "https://localhost:8080/"
        },
        "outputId": "707bc848-5237-4852-bb20-f0143fb77aa2"
      },
      "source": [
        "from google_drive_downloader import GoogleDriveDownloader as gdd\n",
        "\n",
        "gdd.download_file_from_google_drive(file_id='1f7uslI-ZHidriQFZR966_aILjlkgDN76',\n",
        "                                    dest_path='content/eye_gender_data.zip',\n",
        "                                    unzip=True)"
      ],
      "execution_count": 1,
      "outputs": [
        {
          "output_type": "stream",
          "name": "stdout",
          "text": [
            "Downloading 1f7uslI-ZHidriQFZR966_aILjlkgDN76 into content/eye_gender_data.zip... Done.\n",
            "Unzipping..."
          ]
        },
        {
          "output_type": "stream",
          "name": "stderr",
          "text": [
            "/usr/local/lib/python3.7/dist-packages/google_drive_downloader/google_drive_downloader.py:78: UserWarning: Ignoring `unzip` since \"1f7uslI-ZHidriQFZR966_aILjlkgDN76\" does not look like a valid zip file\n",
            "  warnings.warn('Ignoring `unzip` since \"{}\" does not look like a valid zip file'.format(file_id))\n"
          ]
        }
      ]
    },
    {
      "cell_type": "code",
      "source": [
        "!unzip ./eye_gender_data"
      ],
      "metadata": {
        "id": "dPTs8itgFB-r"
      },
      "execution_count": null,
      "outputs": []
    },
    {
      "cell_type": "markdown",
      "metadata": {
        "id": "SM_FDQgXbh_-"
      },
      "source": [
        "We have all the files from the shared Google drive link downloaded in the colab environment."
      ]
    },
    {
      "cell_type": "code",
      "source": [
        ""
      ],
      "metadata": {
        "id": "QYVhS1zzzNcv"
      },
      "execution_count": null,
      "outputs": []
    },
    {
      "cell_type": "markdown",
      "metadata": {
        "id": "wsIqjb7Ebs3B"
      },
      "source": [
        "## Loading Libraries\n",
        "All Python capabilities are not loaded to our working environment by default (even they are already installed in your system). So, we import each and every library that we want to use.\n",
        "\n",
        "We chose alias names for our libraries for the sake of our convenience (numpy --> np and pandas --> pd, tensorlow --> tf).\n",
        "\n",
        "Note: You can import all the libraries that you think will be required or can import it as you go along."
      ]
    },
    {
      "cell_type": "code",
      "metadata": {
        "id": "BIe16kmoUmhr"
      },
      "source": [
        "import pandas as pd                                     # Data analysis and manipultion tool\n",
        "import numpy as np                                      # Fundamental package for linear algebra and multidimensional arrays\n",
        "import tensorflow as tf                                 # Deep Learning Tool\n",
        "import os                                               # OS module in Python provides a way of using operating system dependent functionality\n",
        "import cv2                                              # Library for image processing\n",
        "from sklearn.model_selection import train_test_split    # For splitting the data into train and validation set\n",
        "from sklearn.metrics import f1_score\n",
        "import matplotlib.pyplot as plt\n",
        "\n",
        "\n",
        "%matplotlib inline"
      ],
      "execution_count": 4,
      "outputs": []
    },
    {
      "cell_type": "markdown",
      "metadata": {
        "id": "IAXqCpedduVx"
      },
      "source": [
        "## Loading and preparing training data\n"
      ]
    },
    {
      "cell_type": "code",
      "metadata": {
        "id": "vMXmX8g3dflK"
      },
      "source": [
        "labels = pd.read_csv(\"./eye_gender_data/Training_set.csv\")   # loading the labels\n",
        "file_paths = [[fname, './eye_gender_data/train/' + fname] for fname in labels['filename']]\n",
        "images = pd.DataFrame(file_paths, columns=['filename', 'filepaths'])\n",
        "train_data = pd.merge(images, labels, how = 'inner', on = 'filename')\n",
        "\n",
        "data = []     # initialize an empty numpy array\n",
        "image_size = 100      # image size taken is 100 here. one can take other size too\n",
        "for i in range(len(train_data)):\n",
        "  \n",
        "  img_array = cv2.imread(train_data['filepaths'][i], cv2.IMREAD_GRAYSCALE)   # converting the image to gray scale\n",
        "\n",
        "  new_img_array = cv2.resize(img_array, (image_size, image_size))      # resizing the image array\n",
        "  data.append([new_img_array, train_data['label'][i]])"
      ],
      "execution_count": 5,
      "outputs": []
    },
    {
      "cell_type": "code",
      "source": [
        "# generate img dataset\n",
        "img_data = []     # initialize an empty numpy array\n",
        "image_size = 100      # image size taken is 100 here. one can take other size too\n",
        "for i in range(len(train_data)):\n",
        "  # load image\n",
        "  img_array = cv2.imread(train_data['filepaths'][i], cv2.IMREAD_GRAYSCALE)\n",
        "  new_img_array = cv2.resize(img_array, (image_size, image_size))      # resizing the image array\n",
        "  img_data.append(new_img_array[:,:,np.newaxis])\n"
      ],
      "metadata": {
        "id": "THfeaDcBGcQ3"
      },
      "execution_count": 6,
      "outputs": []
    },
    {
      "cell_type": "code",
      "source": [
        "img_tensor = tf.convert_to_tensor(np.asarray(img_data)/255)\n",
        "img_tensor.shape"
      ],
      "metadata": {
        "colab": {
          "base_uri": "https://localhost:8080/"
        },
        "id": "ECD5CftCnvSf",
        "outputId": "a910027d-9d9c-47d1-bc69-50542ce5a678"
      },
      "execution_count": 7,
      "outputs": [
        {
          "output_type": "execute_result",
          "data": {
            "text/plain": [
              "TensorShape([9220, 100, 100, 1])"
            ]
          },
          "metadata": {},
          "execution_count": 7
        }
      ]
    },
    {
      "cell_type": "code",
      "source": [
        "# generate image tensor dataset\n",
        "image_tf = tf.data.Dataset.from_tensor_slices(tf.cast(img_data, tf.float32))\n"
      ],
      "metadata": {
        "id": "htnTTOpiPG1L"
      },
      "execution_count": 8,
      "outputs": []
    },
    {
      "cell_type": "code",
      "source": [
        "# convert data to pandas dataframe\n",
        "training_set = pd.DataFrame(data,columns=['image','label'])\n",
        "training_set.head()"
      ],
      "metadata": {
        "colab": {
          "base_uri": "https://localhost:8080/",
          "height": 204
        },
        "id": "7ph98Gf_ZvN0",
        "outputId": "8a50682c-bf61-4d6e-ca70-fd47ea10470d"
      },
      "execution_count": 9,
      "outputs": [
        {
          "output_type": "execute_result",
          "data": {
            "text/plain": [
              "                                               image   label\n",
              "0  [[188, 188, 189, 189, 190, 186, 180, 182, 185,...    male\n",
              "1  [[167, 169, 173, 177, 181, 179, 178, 175, 175,...  female\n",
              "2  [[181, 179, 177, 176, 175, 175, 175, 175, 173,...  female\n",
              "3  [[98, 97, 97, 97, 98, 104, 108, 110, 111, 112,...  female\n",
              "4  [[177, 180, 180, 173, 174, 172, 168, 171, 170,...    male"
            ],
            "text/html": [
              "\n",
              "  <div id=\"df-433167fb-5a96-4ff5-a9c9-3149a52d7641\">\n",
              "    <div class=\"colab-df-container\">\n",
              "      <div>\n",
              "<style scoped>\n",
              "    .dataframe tbody tr th:only-of-type {\n",
              "        vertical-align: middle;\n",
              "    }\n",
              "\n",
              "    .dataframe tbody tr th {\n",
              "        vertical-align: top;\n",
              "    }\n",
              "\n",
              "    .dataframe thead th {\n",
              "        text-align: right;\n",
              "    }\n",
              "</style>\n",
              "<table border=\"1\" class=\"dataframe\">\n",
              "  <thead>\n",
              "    <tr style=\"text-align: right;\">\n",
              "      <th></th>\n",
              "      <th>image</th>\n",
              "      <th>label</th>\n",
              "    </tr>\n",
              "  </thead>\n",
              "  <tbody>\n",
              "    <tr>\n",
              "      <th>0</th>\n",
              "      <td>[[188, 188, 189, 189, 190, 186, 180, 182, 185,...</td>\n",
              "      <td>male</td>\n",
              "    </tr>\n",
              "    <tr>\n",
              "      <th>1</th>\n",
              "      <td>[[167, 169, 173, 177, 181, 179, 178, 175, 175,...</td>\n",
              "      <td>female</td>\n",
              "    </tr>\n",
              "    <tr>\n",
              "      <th>2</th>\n",
              "      <td>[[181, 179, 177, 176, 175, 175, 175, 175, 173,...</td>\n",
              "      <td>female</td>\n",
              "    </tr>\n",
              "    <tr>\n",
              "      <th>3</th>\n",
              "      <td>[[98, 97, 97, 97, 98, 104, 108, 110, 111, 112,...</td>\n",
              "      <td>female</td>\n",
              "    </tr>\n",
              "    <tr>\n",
              "      <th>4</th>\n",
              "      <td>[[177, 180, 180, 173, 174, 172, 168, 171, 170,...</td>\n",
              "      <td>male</td>\n",
              "    </tr>\n",
              "  </tbody>\n",
              "</table>\n",
              "</div>\n",
              "      <button class=\"colab-df-convert\" onclick=\"convertToInteractive('df-433167fb-5a96-4ff5-a9c9-3149a52d7641')\"\n",
              "              title=\"Convert this dataframe to an interactive table.\"\n",
              "              style=\"display:none;\">\n",
              "        \n",
              "  <svg xmlns=\"http://www.w3.org/2000/svg\" height=\"24px\"viewBox=\"0 0 24 24\"\n",
              "       width=\"24px\">\n",
              "    <path d=\"M0 0h24v24H0V0z\" fill=\"none\"/>\n",
              "    <path d=\"M18.56 5.44l.94 2.06.94-2.06 2.06-.94-2.06-.94-.94-2.06-.94 2.06-2.06.94zm-11 1L8.5 8.5l.94-2.06 2.06-.94-2.06-.94L8.5 2.5l-.94 2.06-2.06.94zm10 10l.94 2.06.94-2.06 2.06-.94-2.06-.94-.94-2.06-.94 2.06-2.06.94z\"/><path d=\"M17.41 7.96l-1.37-1.37c-.4-.4-.92-.59-1.43-.59-.52 0-1.04.2-1.43.59L10.3 9.45l-7.72 7.72c-.78.78-.78 2.05 0 2.83L4 21.41c.39.39.9.59 1.41.59.51 0 1.02-.2 1.41-.59l7.78-7.78 2.81-2.81c.8-.78.8-2.07 0-2.86zM5.41 20L4 18.59l7.72-7.72 1.47 1.35L5.41 20z\"/>\n",
              "  </svg>\n",
              "      </button>\n",
              "      \n",
              "  <style>\n",
              "    .colab-df-container {\n",
              "      display:flex;\n",
              "      flex-wrap:wrap;\n",
              "      gap: 12px;\n",
              "    }\n",
              "\n",
              "    .colab-df-convert {\n",
              "      background-color: #E8F0FE;\n",
              "      border: none;\n",
              "      border-radius: 50%;\n",
              "      cursor: pointer;\n",
              "      display: none;\n",
              "      fill: #1967D2;\n",
              "      height: 32px;\n",
              "      padding: 0 0 0 0;\n",
              "      width: 32px;\n",
              "    }\n",
              "\n",
              "    .colab-df-convert:hover {\n",
              "      background-color: #E2EBFA;\n",
              "      box-shadow: 0px 1px 2px rgba(60, 64, 67, 0.3), 0px 1px 3px 1px rgba(60, 64, 67, 0.15);\n",
              "      fill: #174EA6;\n",
              "    }\n",
              "\n",
              "    [theme=dark] .colab-df-convert {\n",
              "      background-color: #3B4455;\n",
              "      fill: #D2E3FC;\n",
              "    }\n",
              "\n",
              "    [theme=dark] .colab-df-convert:hover {\n",
              "      background-color: #434B5C;\n",
              "      box-shadow: 0px 1px 3px 1px rgba(0, 0, 0, 0.15);\n",
              "      filter: drop-shadow(0px 1px 2px rgba(0, 0, 0, 0.3));\n",
              "      fill: #FFFFFF;\n",
              "    }\n",
              "  </style>\n",
              "\n",
              "      <script>\n",
              "        const buttonEl =\n",
              "          document.querySelector('#df-433167fb-5a96-4ff5-a9c9-3149a52d7641 button.colab-df-convert');\n",
              "        buttonEl.style.display =\n",
              "          google.colab.kernel.accessAllowed ? 'block' : 'none';\n",
              "\n",
              "        async function convertToInteractive(key) {\n",
              "          const element = document.querySelector('#df-433167fb-5a96-4ff5-a9c9-3149a52d7641');\n",
              "          const dataTable =\n",
              "            await google.colab.kernel.invokeFunction('convertToInteractive',\n",
              "                                                     [key], {});\n",
              "          if (!dataTable) return;\n",
              "\n",
              "          const docLinkHtml = 'Like what you see? Visit the ' +\n",
              "            '<a target=\"_blank\" href=https://colab.research.google.com/notebooks/data_table.ipynb>data table notebook</a>'\n",
              "            + ' to learn more about interactive tables.';\n",
              "          element.innerHTML = '';\n",
              "          dataTable['output_type'] = 'display_data';\n",
              "          await google.colab.output.renderOutput(dataTable, element);\n",
              "          const docLink = document.createElement('div');\n",
              "          docLink.innerHTML = docLinkHtml;\n",
              "          element.appendChild(docLink);\n",
              "        }\n",
              "      </script>\n",
              "    </div>\n",
              "  </div>\n",
              "  "
            ]
          },
          "metadata": {},
          "execution_count": 9
        }
      ]
    },
    {
      "cell_type": "code",
      "source": [
        "# check some example images\n",
        "fig, axs = plt.subplots(1,6)\n",
        "for i in range(6):\n",
        "  axs[i].set_title(data[i][1])\n",
        "  axs[i].imshow(cv2.cvtColor(data[i][0], cv2.COLOR_GRAY2RGB))\n",
        "  axs[i].set_xticks([])\n",
        "  axs[i].set_yticks([])"
      ],
      "metadata": {
        "colab": {
          "base_uri": "https://localhost:8080/",
          "height": 98
        },
        "id": "ZnKqYNCVQDMk",
        "outputId": "c78e8c3a-3fbd-4c55-e71f-b58baa617b51"
      },
      "execution_count": 10,
      "outputs": [
        {
          "output_type": "display_data",
          "data": {
            "text/plain": [
              "<Figure size 432x288 with 6 Axes>"
            ],
            "image/png": "[encoded data removed]"
          },
          "metadata": {}
        }
      ]
    },
    {
      "cell_type": "code",
      "source": [
        "# check data statistics\n",
        "num_train = len(data)\n",
        "num_train_male = len(train_data[train_data['label']=='male'])\n",
        "num_train_female = len(train_data[train_data['label']=='female'])\n",
        "\n",
        "print('male image number : {}; percentage: {}'.format(num_train_male, num_train_male/num_train))\n",
        "print('female image number : {}; percentage: {}'.format(num_train_female, num_train_female/num_train))"
      ],
      "metadata": {
        "colab": {
          "base_uri": "https://localhost:8080/"
        },
        "id": "r8aUujpiWL6u",
        "outputId": "0bee9a0a-9007-48ad-992b-ef8a1f8ff03e"
      },
      "execution_count": 11,
      "outputs": [
        {
          "output_type": "stream",
          "name": "stdout",
          "text": [
            "male image number : 5058; percentage: 0.548590021691974\n",
            "female image number : 4162; percentage: 0.45140997830802604\n"
          ]
        }
      ]
    },
    {
      "cell_type": "markdown",
      "metadata": {
        "id": "BvIxaRD6sn3m"
      },
      "source": [
        "## Data Pre-processing\n",
        "It is necessary to bring all the images in the same shape and size, also convert them to their pixel values because all machine learning or deep learning models accepts only the numerical data. Also we need to convert all the labels from categorical to numerical values."
      ]
    },
    {
      "cell_type": "code",
      "metadata": {
        "id": "vxPiZCLpsWrd",
        "colab": {
          "base_uri": "https://localhost:8080/",
          "height": 258
        },
        "outputId": "00c51b72-837d-4c82-b869-c99772be1aef"
      },
      "source": [
        "# convert labels to numerical data 0 and 1\n",
        "# for female and male respectively\n",
        "training_set.replace('male',1,inplace=True)\n",
        "training_set.replace('female',0,inplace=True)\n",
        "\n",
        "# make label as categorical value\n",
        "training_set['label'] = pd.Categorical(training_set['label'])\n",
        "training_set.head(5)"
      ],
      "execution_count": 12,
      "outputs": [
        {
          "output_type": "stream",
          "name": "stderr",
          "text": [
            "/usr/local/lib/python3.7/dist-packages/pandas/core/missing.py:94: FutureWarning: elementwise comparison failed; returning scalar instead, but in the future will perform elementwise comparison\n",
            "  mask |= arr == x\n"
          ]
        },
        {
          "output_type": "execute_result",
          "data": {
            "text/plain": [
              "                                               image label\n",
              "0  [[188, 188, 189, 189, 190, 186, 180, 182, 185,...     1\n",
              "1  [[167, 169, 173, 177, 181, 179, 178, 175, 175,...     0\n",
              "2  [[181, 179, 177, 176, 175, 175, 175, 175, 173,...     0\n",
              "3  [[98, 97, 97, 97, 98, 104, 108, 110, 111, 112,...     0\n",
              "4  [[177, 180, 180, 173, 174, 172, 168, 171, 170,...     1"
            ],
            "text/html": [
              "\n",
              "  <div id=\"df-068996f4-63e2-48dd-b661-20ef30e84d17\">\n",
              "    <div class=\"colab-df-container\">\n",
              "      <div>\n",
              "<style scoped>\n",
              "    .dataframe tbody tr th:only-of-type {\n",
              "        vertical-align: middle;\n",
              "    }\n",
              "\n",
              "    .dataframe tbody tr th {\n",
              "        vertical-align: top;\n",
              "    }\n",
              "\n",
              "    .dataframe thead th {\n",
              "        text-align: right;\n",
              "    }\n",
              "</style>\n",
              "<table border=\"1\" class=\"dataframe\">\n",
              "  <thead>\n",
              "    <tr style=\"text-align: right;\">\n",
              "      <th></th>\n",
              "      <th>image</th>\n",
              "      <th>label</th>\n",
              "    </tr>\n",
              "  </thead>\n",
              "  <tbody>\n",
              "    <tr>\n",
              "      <th>0</th>\n",
              "      <td>[[188, 188, 189, 189, 190, 186, 180, 182, 185,...</td>\n",
              "      <td>1</td>\n",
              "    </tr>\n",
              "    <tr>\n",
              "      <th>1</th>\n",
              "      <td>[[167, 169, 173, 177, 181, 179, 178, 175, 175,...</td>\n",
              "      <td>0</td>\n",
              "    </tr>\n",
              "    <tr>\n",
              "      <th>2</th>\n",
              "      <td>[[181, 179, 177, 176, 175, 175, 175, 175, 173,...</td>\n",
              "      <td>0</td>\n",
              "    </tr>\n",
              "    <tr>\n",
              "      <th>3</th>\n",
              "      <td>[[98, 97, 97, 97, 98, 104, 108, 110, 111, 112,...</td>\n",
              "      <td>0</td>\n",
              "    </tr>\n",
              "    <tr>\n",
              "      <th>4</th>\n",
              "      <td>[[177, 180, 180, 173, 174, 172, 168, 171, 170,...</td>\n",
              "      <td>1</td>\n",
              "    </tr>\n",
              "  </tbody>\n",
              "</table>\n",
              "</div>\n",
              "      <button class=\"colab-df-convert\" onclick=\"convertToInteractive('df-068996f4-63e2-48dd-b661-20ef30e84d17')\"\n",
              "              title=\"Convert this dataframe to an interactive table.\"\n",
              "              style=\"display:none;\">\n",
              "        \n",
              "  <svg xmlns=\"http://www.w3.org/2000/svg\" height=\"24px\"viewBox=\"0 0 24 24\"\n",
              "       width=\"24px\">\n",
              "    <path d=\"M0 0h24v24H0V0z\" fill=\"none\"/>\n",
              "    <path d=\"M18.56 5.44l.94 2.06.94-2.06 2.06-.94-2.06-.94-.94-2.06-.94 2.06-2.06.94zm-11 1L8.5 8.5l.94-2.06 2.06-.94-2.06-.94L8.5 2.5l-.94 2.06-2.06.94zm10 10l.94 2.06.94-2.06 2.06-.94-2.06-.94-.94-2.06-.94 2.06-2.06.94z\"/><path d=\"M17.41 7.96l-1.37-1.37c-.4-.4-.92-.59-1.43-.59-.52 0-1.04.2-1.43.59L10.3 9.45l-7.72 7.72c-.78.78-.78 2.05 0 2.83L4 21.41c.39.39.9.59 1.41.59.51 0 1.02-.2 1.41-.59l7.78-7.78 2.81-2.81c.8-.78.8-2.07 0-2.86zM5.41 20L4 18.59l7.72-7.72 1.47 1.35L5.41 20z\"/>\n",
              "  </svg>\n",
              "      </button>\n",
              "      \n",
              "  <style>\n",
              "    .colab-df-container {\n",
              "      display:flex;\n",
              "      flex-wrap:wrap;\n",
              "      gap: 12px;\n",
              "    }\n",
              "\n",
              "    .colab-df-convert {\n",
              "      background-color: #E8F0FE;\n",
              "      border: none;\n",
              "      border-radius: 50%;\n",
              "      cursor: pointer;\n",
              "      display: none;\n",
              "      fill: #1967D2;\n",
              "      height: 32px;\n",
              "      padding: 0 0 0 0;\n",
              "      width: 32px;\n",
              "    }\n",
              "\n",
              "    .colab-df-convert:hover {\n",
              "      background-color: #E2EBFA;\n",
              "      box-shadow: 0px 1px 2px rgba(60, 64, 67, 0.3), 0px 1px 3px 1px rgba(60, 64, 67, 0.15);\n",
              "      fill: #174EA6;\n",
              "    }\n",
              "\n",
              "    [theme=dark] .colab-df-convert {\n",
              "      background-color: #3B4455;\n",
              "      fill: #D2E3FC;\n",
              "    }\n",
              "\n",
              "    [theme=dark] .colab-df-convert:hover {\n",
              "      background-color: #434B5C;\n",
              "      box-shadow: 0px 1px 3px 1px rgba(0, 0, 0, 0.15);\n",
              "      filter: drop-shadow(0px 1px 2px rgba(0, 0, 0, 0.3));\n",
              "      fill: #FFFFFF;\n",
              "    }\n",
              "  </style>\n",
              "\n",
              "      <script>\n",
              "        const buttonEl =\n",
              "          document.querySelector('#df-068996f4-63e2-48dd-b661-20ef30e84d17 button.colab-df-convert');\n",
              "        buttonEl.style.display =\n",
              "          google.colab.kernel.accessAllowed ? 'block' : 'none';\n",
              "\n",
              "        async function convertToInteractive(key) {\n",
              "          const element = document.querySelector('#df-068996f4-63e2-48dd-b661-20ef30e84d17');\n",
              "          const dataTable =\n",
              "            await google.colab.kernel.invokeFunction('convertToInteractive',\n",
              "                                                     [key], {});\n",
              "          if (!dataTable) return;\n",
              "\n",
              "          const docLinkHtml = 'Like what you see? Visit the ' +\n",
              "            '<a target=\"_blank\" href=https://colab.research.google.com/notebooks/data_table.ipynb>data table notebook</a>'\n",
              "            + ' to learn more about interactive tables.';\n",
              "          element.innerHTML = '';\n",
              "          dataTable['output_type'] = 'display_data';\n",
              "          await google.colab.output.renderOutput(dataTable, element);\n",
              "          const docLink = document.createElement('div');\n",
              "          docLink.innerHTML = docLinkHtml;\n",
              "          element.appendChild(docLink);\n",
              "        }\n",
              "      </script>\n",
              "    </div>\n",
              "  </div>\n",
              "  "
            ]
          },
          "metadata": {},
          "execution_count": 12
        }
      ]
    },
    {
      "cell_type": "code",
      "source": [
        "# convert to tensor\n",
        "label_tensor = tf.convert_to_tensor(training_set['label'])\n",
        "label_tensor"
      ],
      "metadata": {
        "colab": {
          "base_uri": "https://localhost:8080/"
        },
        "id": "0LBDOb2Kob6J",
        "outputId": "cd2b36b6-b3ef-4616-d645-0aa0b49784d8"
      },
      "execution_count": 13,
      "outputs": [
        {
          "output_type": "execute_result",
          "data": {
            "text/plain": [
              "<tf.Tensor: shape=(9220,), dtype=int64, numpy=array([1, 0, 0, ..., 1, 1, 0])>"
            ]
          },
          "metadata": {},
          "execution_count": 13
        }
      ]
    },
    {
      "cell_type": "code",
      "source": [
        "# convert labels to a tensor ds\n",
        "label_tf = tf.data.Dataset.from_tensor_slices(tf.cast(training_set['label'], tf.int64))"
      ],
      "metadata": {
        "id": "pf3Po8TJqwyM"
      },
      "execution_count": 14,
      "outputs": []
    },
    {
      "cell_type": "code",
      "source": [
        "# pack image and label as one tensor\n",
        "image_label_ds = tf.data.Dataset.zip((image_tf, label_tf))\n",
        "print(image_label_ds)"
      ],
      "metadata": {
        "colab": {
          "base_uri": "https://localhost:8080/"
        },
        "id": "fecJ3w-IXp_f",
        "outputId": "ec331dc7-3b88-4a72-f74e-5985736dc169"
      },
      "execution_count": 15,
      "outputs": [
        {
          "output_type": "stream",
          "name": "stdout",
          "text": [
            "<ZipDataset element_spec=(TensorSpec(shape=(100, 100, 1), dtype=tf.float32, name=None), TensorSpec(shape=(), dtype=tf.int64, name=None))>\n"
          ]
        }
      ]
    },
    {
      "cell_type": "code",
      "source": [
        "# create image pipline for each set\n",
        "batch_size = 32 \n",
        "\n",
        "def format_image(image, label):\n",
        "  image = tf.cast(image, tf.float32)\n",
        "  image /= 255\n",
        "  return image, label\n",
        "\n",
        "training_batches = image_label_ds.shuffle(num_train//4).map(format_image)"
      ],
      "metadata": {
        "id": "n3EJ37ivSHf2"
      },
      "execution_count": 16,
      "outputs": []
    },
    {
      "cell_type": "code",
      "source": [
        "for image, label in enumerate(image_label_ds.take(3)):\n",
        "    print('Image {} shape: {} label: {}'.format(image+1, label[0].shape, label[1]))"
      ],
      "metadata": {
        "colab": {
          "base_uri": "https://localhost:8080/"
        },
        "id": "2-_ifo3hUnLD",
        "outputId": "9c1c7bf6-7860-4ab6-8d60-cba561f03e8e"
      },
      "execution_count": 17,
      "outputs": [
        {
          "output_type": "stream",
          "name": "stdout",
          "text": [
            "Image 1 shape: (100, 100, 1) label: 1\n",
            "Image 2 shape: (100, 100, 1) label: 0\n",
            "Image 3 shape: (100, 100, 1) label: 0\n"
          ]
        }
      ]
    },
    {
      "cell_type": "code",
      "source": [
        "from tensorflow.keras.preprocessing.image import ImageDataGenerator\n",
        "\n",
        "# data augmentation\n",
        "train_datagen = ImageDataGenerator(featurewise_center=True,\n",
        "    featurewise_std_normalization=True,\n",
        "    rotation_range=20,\n",
        "    width_shift_range=0.2,\n",
        "    height_shift_range=0.2,\n",
        "    horizontal_flip=True,\n",
        "    validation_split=0.2)"
      ],
      "metadata": {
        "id": "SWgEg2GKT4yX"
      },
      "execution_count": 18,
      "outputs": []
    },
    {
      "cell_type": "markdown",
      "metadata": {
        "id": "cDCZ53yE7340"
      },
      "source": [
        "## Building Model & Hyperparameter tuning\n",
        "Now we are finally ready, and we can train the model.\n"
      ]
    },
    {
      "cell_type": "code",
      "metadata": {
        "id": "ZQWMyQLva53K",
        "colab": {
          "base_uri": "https://localhost:8080/"
        },
        "outputId": "a5e861d5-713a-446b-98d7-f646e9e6d5f1"
      },
      "source": [
        "# define input size\n",
        "input_size = (100,100,1)\n",
        "\n",
        "# define sequential model\n",
        "model = tf.keras.models.Sequential()\n",
        "\n",
        "# add Conv-pool layer1\n",
        "model.add(tf.keras.layers.Conv2D(filters=16, kernel_size=(3, 3), strides=(1, 1),  \n",
        "                                 activation='relu', padding='same', input_shape=input_size)) \n",
        "model.add(tf.keras.layers.MaxPooling2D(pool_size=(2, 2)))\n",
        "# add Conv-pool layer2\n",
        "model.add(tf.keras.layers.Conv2D(filters=32, kernel_size=(3, 3), strides=(1, 1),  \n",
        "                                 activation='relu', padding='same', input_shape=input_size)) \n",
        "model.add(tf.keras.layers.MaxPooling2D(pool_size=(2, 2)))\n",
        "\n",
        "# add Conv-pool layer3\n",
        "model.add(tf.keras.layers.Conv2D(filters=64, kernel_size=(3, 3), strides=(1, 1),  \n",
        "                                 activation='relu', padding='same', input_shape=input_size)) \n",
        "model.add(tf.keras.layers.MaxPooling2D(pool_size=(2, 2)))\n",
        "\n",
        "# add flatten layer \n",
        "model.add(tf.keras.layers.Flatten())  \n",
        "# add dense layers with some dropout \n",
        "model.add(tf.keras.layers.Dense(256, activation='relu')) \n",
        "model.add(tf.keras.layers.Dropout(rate=0.3)) \n",
        "model.add(tf.keras.layers.Dense(256, activation='relu')) \n",
        "model.add(tf.keras.layers.Dropout(rate=0.3))  \n",
        "# add output layer \n",
        "model.add(tf.keras.layers.Dense(1, activation='sigmoid'))\n",
        "\n",
        "# compile model \n",
        "model.compile(optimizer='adam',  \n",
        "              loss='binary_crossentropy',  \n",
        "              metrics=['accuracy'])  \n",
        "# view model layers \n",
        "model.summary()"
      ],
      "execution_count": 19,
      "outputs": [
        {
          "output_type": "stream",
          "name": "stdout",
          "text": [
            "Model: \"sequential\"\n",
            "_________________________________________________________________\n",
            " Layer (type)                Output Shape              Param #   \n",
            "=================================================================\n",
            " conv2d (Conv2D)             (None, 100, 100, 16)      160       \n",
            "                                                                 \n",
            " max_pooling2d (MaxPooling2D  (None, 50, 50, 16)       0         \n",
            " )                                                               \n",
            "                                                                 \n",
            " conv2d_1 (Conv2D)           (None, 50, 50, 32)        4640      \n",
            "                                                                 \n",
            " max_pooling2d_1 (MaxPooling  (None, 25, 25, 32)       0         \n",
            " 2D)                                                             \n",
            "                                                                 \n",
            " conv2d_2 (Conv2D)           (None, 25, 25, 64)        18496     \n",
            "                                                                 \n",
            " max_pooling2d_2 (MaxPooling  (None, 12, 12, 64)       0         \n",
            " 2D)                                                             \n",
            "                                                                 \n",
            " flatten (Flatten)           (None, 9216)              0         \n",
            "                                                                 \n",
            " dense (Dense)               (None, 256)               2359552   \n",
            "                                                                 \n",
            " dropout (Dropout)           (None, 256)               0         \n",
            "                                                                 \n",
            " dense_1 (Dense)             (None, 256)               65792     \n",
            "                                                                 \n",
            " dropout_1 (Dropout)         (None, 256)               0         \n",
            "                                                                 \n",
            " dense_2 (Dense)             (None, 1)                 257       \n",
            "                                                                 \n",
            "=================================================================\n",
            "Total params: 2,448,897\n",
            "Trainable params: 2,448,897\n",
            "Non-trainable params: 0\n",
            "_________________________________________________________________\n"
          ]
        }
      ]
    },
    {
      "cell_type": "code",
      "metadata": {
        "id": "_jkmDd6PbAJH",
        "colab": {
          "base_uri": "https://localhost:8080/"
        },
        "outputId": "668bd0dd-988f-4bf9-e863-8e57c58f86be"
      },
      "source": [
        "# model training\n",
        "\n",
        "EPOCHS = 100 \n",
        "es_callback = tf.keras.callbacks.EarlyStopping(monitor='val_loss', patience=2,  \n",
        "                                               restore_best_weights=True, verbose=1)  \n",
        "history = model.fit(img_tensor, label_tensor,\n",
        "                    batch_size=32, \n",
        "                    callbacks=[es_callback],  \n",
        "                    validation_split=0.1, \n",
        "                    epochs=EPOCHS, verbose=1)"
      ],
      "execution_count": 20,
      "outputs": [
        {
          "output_type": "stream",
          "name": "stdout",
          "text": [
            "Epoch 1/100\n",
            "260/260 [==============================] - 18s 26ms/step - loss: 0.5353 - accuracy: 0.7205 - val_loss: 0.4782 - val_accuracy: 0.7755\n",
            "Epoch 2/100\n",
            "260/260 [==============================] - 6s 23ms/step - loss: 0.3718 - accuracy: 0.8401 - val_loss: 0.3149 - val_accuracy: 0.8731\n",
            "Epoch 3/100\n",
            "260/260 [==============================] - 6s 24ms/step - loss: 0.3039 - accuracy: 0.8729 - val_loss: 0.3089 - val_accuracy: 0.8829\n",
            "Epoch 4/100\n",
            "260/260 [==============================] - 6s 23ms/step - loss: 0.2671 - accuracy: 0.8933 - val_loss: 0.3357 - val_accuracy: 0.8482\n",
            "Epoch 5/100\n",
            "260/260 [==============================] - 6s 22ms/step - loss: 0.2306 - accuracy: 0.9074 - val_loss: 0.2609 - val_accuracy: 0.8785\n",
            "Epoch 6/100\n",
            "260/260 [==============================] - 6s 22ms/step - loss: 0.2065 - accuracy: 0.9168 - val_loss: 0.2680 - val_accuracy: 0.8861\n",
            "Epoch 7/100\n",
            "260/260 [==============================] - 6s 22ms/step - loss: 0.1853 - accuracy: 0.9246 - val_loss: 0.1999 - val_accuracy: 0.9154\n",
            "Epoch 8/100\n",
            "260/260 [==============================] - 6s 22ms/step - loss: 0.1660 - accuracy: 0.9353 - val_loss: 0.2062 - val_accuracy: 0.9241\n",
            "Epoch 9/100\n",
            "259/260 [============================>.] - ETA: 0s - loss: 0.1447 - accuracy: 0.9450Restoring model weights from the end of the best epoch: 7.\n",
            "260/260 [==============================] - 6s 22ms/step - loss: 0.1452 - accuracy: 0.9449 - val_loss: 0.2343 - val_accuracy: 0.9219\n",
            "Epoch 9: early stopping\n"
          ]
        }
      ]
    },
    {
      "cell_type": "code",
      "source": [
        "# plot learning curve\n",
        "fig, ax = plt.subplots(1, 2, figsize=(10, 4))  \n",
        "history_df = pd.DataFrame(history.history) \n",
        "history_df[['loss', 'val_loss']].plot(kind='line', ax=ax[0]) \n",
        "history_df[['accuracy', 'val_accuracy']].plot(kind='line', ax=ax[1]);"
      ],
      "metadata": {
        "colab": {
          "base_uri": "https://localhost:8080/",
          "height": 267
        },
        "id": "NoIx0Q2YsYao",
        "outputId": "ed911a3a-60ee-4484-f0dc-c53b5ff8b747"
      },
      "execution_count": 21,
      "outputs": [
        {
          "output_type": "display_data",
          "data": {
            "text/plain": [
              "<Figure size 720x288 with 2 Axes>"
            ],
            "image/png": "[encoded data removed]"
          },
          "metadata": {
            "needs_background": "light"
          }
        }
      ]
    },
    {
      "cell_type": "markdown",
      "metadata": {
        "id": "tc3lSJ2a-OYt"
      },
      "source": [
        "## Fine-tuning a pre-trained VGG19 CNN model\n"
      ]
    },
    {
      "cell_type": "code",
      "metadata": {
        "id": "jLfoImV7ds57",
        "colab": {
          "base_uri": "https://localhost:8080/"
        },
        "outputId": "379f66c8-8f71-4e13-cdeb-5d9db871a725"
      },
      "source": [
        "# convert image to 3-channel image\n",
        "train_images_3ch = np.stack([img_tensor]*3, axis=3)  \n",
        "train_images_3ch = train_images_3ch.squeeze()\n",
        "print('\\nTrain_images.shape: {}, of {}'.format(train_images_3ch.shape, train_images_3ch.dtype)) "
      ],
      "execution_count": 31,
      "outputs": [
        {
          "output_type": "stream",
          "name": "stdout",
          "text": [
            "\n",
            "Train_images.shape: (9220, 100, 100, 3), of float64\n"
          ]
        }
      ]
    },
    {
      "cell_type": "code",
      "source": [
        "# Build Cut-VGG19 Model\n",
        "# define input shape \n",
        "INPUT_SHAPE = (image_size, image_size, 3)  \n",
        "# get the VGG19 model \n",
        "vgg_layers = tf.keras.applications.vgg19.VGG19(weights='imagenet', \n",
        "                                               include_top=False,  \n",
        "                                               input_shape=INPUT_SHAPE)  \n",
        "vgg_layers.summary()"
      ],
      "metadata": {
        "colab": {
          "base_uri": "https://localhost:8080/"
        },
        "id": "k_a69F9PuSvT",
        "outputId": "47f85d14-474d-4dfd-a162-03241daf76e9"
      },
      "execution_count": 32,
      "outputs": [
        {
          "output_type": "stream",
          "name": "stdout",
          "text": [
            "Downloading data from https://storage.googleapis.com/tensorflow/keras-applications/vgg19/vgg19_weights_tf_dim_ordering_tf_kernels_notop.h5\n",
            "80142336/80134624 [==============================] - 1s 0us/step\n",
            "80150528/80134624 [==============================] - 1s 0us/step\n",
            "Model: \"vgg19\"\n",
            "_________________________________________________________________\n",
            " Layer (type)                Output Shape              Param #   \n",
            "=================================================================\n",
            " input_1 (InputLayer)        [(None, 100, 100, 3)]     0         \n",
            "                                                                 \n",
            " block1_conv1 (Conv2D)       (None, 100, 100, 64)      1792      \n",
            "                                                                 \n",
            " block1_conv2 (Conv2D)       (None, 100, 100, 64)      36928     \n",
            "                                                                 \n",
            " block1_pool (MaxPooling2D)  (None, 50, 50, 64)        0         \n",
            "                                                                 \n",
            " block2_conv1 (Conv2D)       (None, 50, 50, 128)       73856     \n",
            "                                                                 \n",
            " block2_conv2 (Conv2D)       (None, 50, 50, 128)       147584    \n",
            "                                                                 \n",
            " block2_pool (MaxPooling2D)  (None, 25, 25, 128)       0         \n",
            "                                                                 \n",
            " block3_conv1 (Conv2D)       (None, 25, 25, 256)       295168    \n",
            "                                                                 \n",
            " block3_conv2 (Conv2D)       (None, 25, 25, 256)       590080    \n",
            "                                                                 \n",
            " block3_conv3 (Conv2D)       (None, 25, 25, 256)       590080    \n",
            "                                                                 \n",
            " block3_conv4 (Conv2D)       (None, 25, 25, 256)       590080    \n",
            "                                                                 \n",
            " block3_pool (MaxPooling2D)  (None, 12, 12, 256)       0         \n",
            "                                                                 \n",
            " block4_conv1 (Conv2D)       (None, 12, 12, 512)       1180160   \n",
            "                                                                 \n",
            " block4_conv2 (Conv2D)       (None, 12, 12, 512)       2359808   \n",
            "                                                                 \n",
            " block4_conv3 (Conv2D)       (None, 12, 12, 512)       2359808   \n",
            "                                                                 \n",
            " block4_conv4 (Conv2D)       (None, 12, 12, 512)       2359808   \n",
            "                                                                 \n",
            " block4_pool (MaxPooling2D)  (None, 6, 6, 512)         0         \n",
            "                                                                 \n",
            " block5_conv1 (Conv2D)       (None, 6, 6, 512)         2359808   \n",
            "                                                                 \n",
            " block5_conv2 (Conv2D)       (None, 6, 6, 512)         2359808   \n",
            "                                                                 \n",
            " block5_conv3 (Conv2D)       (None, 6, 6, 512)         2359808   \n",
            "                                                                 \n",
            " block5_conv4 (Conv2D)       (None, 6, 6, 512)         2359808   \n",
            "                                                                 \n",
            " block5_pool (MaxPooling2D)  (None, 3, 3, 512)         0         \n",
            "                                                                 \n",
            "=================================================================\n",
            "Total params: 20,024,384\n",
            "Trainable params: 20,024,384\n",
            "Non-trainable params: 0\n",
            "_________________________________________________________________\n"
          ]
        }
      ]
    },
    {
      "cell_type": "code",
      "source": [
        "# Set layers to trainable to enable fine-tuning\n",
        "# Fine-tune all the layers \n",
        "for layer in vgg_layers.layers: \n",
        "  layer.trainable = True  \n",
        "# Check the trainable status of the individual layers \n",
        "for layer in vgg_layers.layers: \n",
        "  print(layer, layer.trainable)"
      ],
      "metadata": {
        "colab": {
          "base_uri": "https://localhost:8080/"
        },
        "id": "9lV5UlO2uv9J",
        "outputId": "e988f67d-c6cf-44cc-d898-d7c2a2af27ca"
      },
      "execution_count": 33,
      "outputs": [
        {
          "output_type": "stream",
          "name": "stdout",
          "text": [
            "<keras.engine.input_layer.InputLayer object at 0x7f7bf7fbf1d0> True\n",
            "<keras.layers.convolutional.Conv2D object at 0x7f7c72b9e310> True\n",
            "<keras.layers.convolutional.Conv2D object at 0x7f7c72ddffd0> True\n",
            "<keras.layers.pooling.MaxPooling2D object at 0x7f7c72e68150> True\n",
            "<keras.layers.convolutional.Conv2D object at 0x7f7c72e74ed0> True\n",
            "<keras.layers.convolutional.Conv2D object at 0x7f7c72b79e50> True\n",
            "<keras.layers.pooling.MaxPooling2D object at 0x7f7bf7767cd0> True\n",
            "<keras.layers.convolutional.Conv2D object at 0x7f7bf8026f10> True\n",
            "<keras.layers.convolutional.Conv2D object at 0x7f7bf8026390> True\n",
            "<keras.layers.convolutional.Conv2D object at 0x7f7bf8026550> True\n",
            "<keras.layers.convolutional.Conv2D object at 0x7f7b827db550> True\n",
            "<keras.layers.pooling.MaxPooling2D object at 0x7f7b827db2d0> True\n",
            "<keras.layers.convolutional.Conv2D object at 0x7f7c72f16750> True\n",
            "<keras.layers.convolutional.Conv2D object at 0x7f7c72f26910> True\n",
            "<keras.layers.convolutional.Conv2D object at 0x7f7b8381cdd0> True\n",
            "<keras.layers.convolutional.Conv2D object at 0x7f7b83814f10> True\n",
            "<keras.layers.pooling.MaxPooling2D object at 0x7f7b8381c110> True\n",
            "<keras.layers.convolutional.Conv2D object at 0x7f7c72eb44d0> True\n",
            "<keras.layers.convolutional.Conv2D object at 0x7f7c72b1ebd0> True\n",
            "<keras.layers.convolutional.Conv2D object at 0x7f7c72f16190> True\n",
            "<keras.layers.convolutional.Conv2D object at 0x7f7c72b25510> True\n",
            "<keras.layers.pooling.MaxPooling2D object at 0x7f7c72b29110> True\n"
          ]
        }
      ]
    },
    {
      "cell_type": "markdown",
      "source": [
        "### Build CNN model on top of VGG19"
      ],
      "metadata": {
        "id": "sCLRIrAHvCDr"
      }
    },
    {
      "cell_type": "code",
      "source": [
        "# define sequential model \n",
        "model_vgg = tf.keras.models.Sequential()  \n",
        "# Add the vgg convolutional base model \n",
        "model_vgg.add(vgg_layers)  \n",
        "# add flatten layer \n",
        "model_vgg.add(tf.keras.layers.Flatten())  \n",
        "# add dense layers with some dropout \n",
        "model_vgg.add(tf.keras.layers.Dense(256, activation='relu')) \n",
        "model_vgg.add(tf.keras.layers.Dropout(rate=0.3)) \n",
        "model_vgg.add(tf.keras.layers.Dense(256, activation='relu')) \n",
        "model_vgg.add(tf.keras.layers.Dropout(rate=0.3))  \n",
        "# add output layer \n",
        "model_vgg.add(tf.keras.layers.Dense(1, activation='sigmoid'))  \n",
        "\n",
        "# compile model \n",
        "model_vgg.compile(optimizer=tf.keras.optimizers.Adam(learning_rate=2e-5),  \n",
        "                  loss='binary_crossentropy',  \n",
        "                  metrics=['accuracy'])  \n",
        "# view model layers \n",
        "model_vgg.summary()"
      ],
      "metadata": {
        "colab": {
          "base_uri": "https://localhost:8080/"
        },
        "id": "eYfg6yWEvH5w",
        "outputId": "770a4cc8-d368-4f93-b1c0-e5e7fe359778"
      },
      "execution_count": 34,
      "outputs": [
        {
          "output_type": "stream",
          "name": "stdout",
          "text": [
            "Model: \"sequential_1\"\n",
            "_________________________________________________________________\n",
            " Layer (type)                Output Shape              Param #   \n",
            "=================================================================\n",
            " vgg19 (Functional)          (None, 3, 3, 512)         20024384  \n",
            "                                                                 \n",
            " flatten_1 (Flatten)         (None, 4608)              0         \n",
            "                                                                 \n",
            " dense_3 (Dense)             (None, 256)               1179904   \n",
            "                                                                 \n",
            " dropout_2 (Dropout)         (None, 256)               0         \n",
            "                                                                 \n",
            " dense_4 (Dense)             (None, 256)               65792     \n",
            "                                                                 \n",
            " dropout_3 (Dropout)         (None, 256)               0         \n",
            "                                                                 \n",
            " dense_5 (Dense)             (None, 1)                 257       \n",
            "                                                                 \n",
            "=================================================================\n",
            "Total params: 21,270,337\n",
            "Trainable params: 21,270,337\n",
            "Non-trainable params: 0\n",
            "_________________________________________________________________\n"
          ]
        }
      ]
    },
    {
      "cell_type": "code",
      "source": [
        "EPOCHS = 100 \n",
        "es_callback = tf.keras.callbacks.EarlyStopping(monitor='val_loss', \n",
        "                                               patience=2,  \n",
        "                                               restore_best_weights=True, \n",
        "                                               verbose=1)  \n",
        "history = model_vgg.fit(train_images_3ch, label_tensor, \n",
        "                    batch_size=32, \n",
        "                    callbacks=[es_callback],  \n",
        "                    validation_split=0.1, \n",
        "                    epochs=EPOCHS, \n",
        "                    verbose=1)"
      ],
      "metadata": {
        "colab": {
          "base_uri": "https://localhost:8080/"
        },
        "id": "4W2inJX5vsql",
        "outputId": "059ab4d7-d457-4828-e3ef-686766095c13"
      },
      "execution_count": 35,
      "outputs": [
        {
          "output_type": "stream",
          "name": "stdout",
          "text": [
            "Epoch 1/100\n",
            "260/260 [==============================] - 100s 368ms/step - loss: 0.2786 - accuracy: 0.8815 - val_loss: 0.1250 - val_accuracy: 0.9534\n",
            "Epoch 2/100\n",
            "260/260 [==============================] - 93s 356ms/step - loss: 0.1404 - accuracy: 0.9456 - val_loss: 0.1178 - val_accuracy: 0.9523\n",
            "Epoch 3/100\n",
            "260/260 [==============================] - 92s 356ms/step - loss: 0.1109 - accuracy: 0.9566 - val_loss: 0.1092 - val_accuracy: 0.9620\n",
            "Epoch 4/100\n",
            "260/260 [==============================] - 92s 356ms/step - loss: 0.0833 - accuracy: 0.9681 - val_loss: 0.1038 - val_accuracy: 0.9577\n",
            "Epoch 5/100\n",
            "260/260 [==============================] - 92s 355ms/step - loss: 0.0677 - accuracy: 0.9736 - val_loss: 0.1058 - val_accuracy: 0.9642\n",
            "Epoch 6/100\n",
            "260/260 [==============================] - ETA: 0s - loss: 0.0531 - accuracy: 0.9806Restoring model weights from the end of the best epoch: 4.\n",
            "260/260 [==============================] - 92s 355ms/step - loss: 0.0531 - accuracy: 0.9806 - val_loss: 0.1254 - val_accuracy: 0.9512\n",
            "Epoch 6: early stopping\n"
          ]
        }
      ]
    },
    {
      "cell_type": "code",
      "source": [
        "# plot learning curves\n",
        "fig, ax = plt.subplots(1, 2, figsize=(10, 4))  \n",
        "history_df = pd.DataFrame(history.history) \n",
        "history_df[['loss', 'val_loss']].plot(kind='line', ax=ax[0]) \n",
        "history_df[['accuracy', 'val_accuracy']].plot(kind='line', ax=ax[1]);"
      ],
      "metadata": {
        "colab": {
          "base_uri": "https://localhost:8080/",
          "height": 265
        },
        "id": "FqW5rim9wM8h",
        "outputId": "e5440098-1eeb-439c-da9f-462503a28121"
      },
      "execution_count": 36,
      "outputs": [
        {
          "output_type": "display_data",
          "data": {
            "text/plain": [
              "<Figure size 720x288 with 2 Axes>"
            ],
            "image/png": "[encoded data removed]"
          },
          "metadata": {
            "needs_background": "light"
          }
        }
      ]
    },
    {
      "cell_type": "markdown",
      "metadata": {
        "id": "kLrpm-If-lRT"
      },
      "source": [
        "## Predict The Output For Testing Dataset 😅\n",
        "We have trained our model, evaluated it and now finally we will predict the output/target for the testing data (i.e. Test.csv)."
      ]
    },
    {
      "cell_type": "markdown",
      "metadata": {
        "id": "nG70J6Un-s2G"
      },
      "source": [
        "#### Load Test Set\n",
        "Load the test data on which final submission is to be made."
      ]
    },
    {
      "cell_type": "code",
      "metadata": {
        "id": "iji8OaFF-fSp",
        "colab": {
          "base_uri": "https://localhost:8080/"
        },
        "outputId": "dc453278-6d88-48cc-c103-30e1fee07292"
      },
      "source": [
        "file_name = pd.read_csv(\"./eye_gender_data/Testing_set.csv\")   # loading the labels\n",
        "file_paths = [[fname, './eye_gender_data/test/' + fname] for fname in file_name['filename']]\n",
        "test_data = pd.DataFrame(file_paths, columns=['filename', 'filepaths'])\n",
        "\n",
        "# generate img dataset\n",
        "img_data = []     # initialize an empty numpy array\n",
        "image_size = 100      # image size taken is 100 here. one can take other size too\n",
        "for i in range(len(test_data)):\n",
        "  # load image\n",
        "  img_array = cv2.imread(test_data['filepaths'][i], cv2.IMREAD_GRAYSCALE)\n",
        "  new_img_array = cv2.resize(img_array, (image_size, image_size))      # resizing the image array\n",
        "  img_data.append(new_img_array[:,:,np.newaxis])\n",
        "\n",
        "# normalise to between 0 and 1, convert to tensor\n",
        "test_tensor = tf.convert_to_tensor(np.asarray(img_data)/255)\n",
        "test_tensor.shape"
      ],
      "execution_count": 22,
      "outputs": [
        {
          "output_type": "execute_result",
          "data": {
            "text/plain": [
              "TensorShape([2305, 100, 100, 1])"
            ]
          },
          "metadata": {},
          "execution_count": 22
        }
      ]
    },
    {
      "cell_type": "markdown",
      "source": [
        ""
      ],
      "metadata": {
        "id": "f7Ji4Mx_39nB"
      }
    },
    {
      "cell_type": "markdown",
      "metadata": {
        "id": "ZqSujaW0CRi9"
      },
      "source": [
        "## Data Pre-processing on test_data\n"
      ]
    },
    {
      "cell_type": "code",
      "metadata": {
        "id": "Wy7-NZ7TCiSQ",
        "colab": {
          "base_uri": "https://localhost:8080/"
        },
        "outputId": "22ee1598-77b6-456b-c30e-6b520951d900"
      },
      "source": [
        "# convert image to 3-channel image\n",
        "test_images_3ch = np.stack([test_tensor]*3, axis=3)  \n",
        "test_images_3ch = test_images_3ch.squeeze()\n",
        "print('\\nTrain_images.shape: {}, of {}'.format(test_images_3ch.shape, test_images_3ch.dtype)) "
      ],
      "execution_count": 37,
      "outputs": [
        {
          "output_type": "stream",
          "name": "stdout",
          "text": [
            "\n",
            "Train_images.shape: (2305, 100, 100, 3), of float64\n"
          ]
        }
      ]
    },
    {
      "cell_type": "code",
      "metadata": {
        "id": "7KNDswlffvYq"
      },
      "source": [
        ""
      ],
      "execution_count": null,
      "outputs": []
    },
    {
      "cell_type": "code",
      "metadata": {
        "id": "lIeL1SHdCAcf"
      },
      "source": [
        ""
      ],
      "execution_count": null,
      "outputs": []
    },
    {
      "cell_type": "markdown",
      "metadata": {
        "id": "AxtDS6-0J0s2"
      },
      "source": [
        "### Make Prediction on Test Dataset\n",
        "Time to make a submission!!!"
      ]
    },
    {
      "cell_type": "code",
      "metadata": {
        "id": "yXLCDKVrJuzY"
      },
      "source": [
        "predictions = model.predict(test_tensor)"
      ],
      "execution_count": 23,
      "outputs": []
    },
    {
      "cell_type": "code",
      "metadata": {
        "id": "MYeK05BHLAen",
        "colab": {
          "base_uri": "https://localhost:8080/"
        },
        "outputId": "e251fab8-53ff-4489-9006-5f785d0655df"
      },
      "source": [
        "predictions_label = np.squeeze((predictions >= 0.5)*1)\n",
        "predictions_label=np.where(predictions_label == 1,'male','female')\n",
        "predictions_label[:5]"
      ],
      "execution_count": 24,
      "outputs": [
        {
          "output_type": "execute_result",
          "data": {
            "text/plain": [
              "array(['male', 'male', 'male', 'male', 'male'], dtype='<U6')"
            ]
          },
          "metadata": {},
          "execution_count": 24
        }
      ]
    },
    {
      "cell_type": "code",
      "source": [
        "predictions_vgg = model_vgg.predict(test_images_3ch)"
      ],
      "metadata": {
        "id": "MX18C2yB4AQj"
      },
      "execution_count": 38,
      "outputs": []
    },
    {
      "cell_type": "code",
      "source": [
        "predictions_label_vgg = np.squeeze((predictions_vgg >= 0.5)*1)\n",
        "predictions_label_vgg = np.where(predictions_label_vgg == 1,'male','female')\n",
        "predictions_label_vgg[:5]"
      ],
      "metadata": {
        "colab": {
          "base_uri": "https://localhost:8080/"
        },
        "id": "JCoCGee_4AfY",
        "outputId": "f6b077f8-3f58-4aea-aeff-95a1a4b9a1e0"
      },
      "execution_count": 39,
      "outputs": [
        {
          "output_type": "execute_result",
          "data": {
            "text/plain": [
              "array(['male', 'male', 'male', 'male', 'male'], dtype='<U6')"
            ]
          },
          "metadata": {},
          "execution_count": 39
        }
      ]
    },
    {
      "cell_type": "markdown",
      "metadata": {
        "id": "THaqbN4LM6YX"
      },
      "source": [
        "## **How to save prediciton results locally via jupyter notebook?**\n",
        "If you are working on Jupyter notebook, execute below block of codes. A file named 'submission.csv' will be created in your current working directory."
      ]
    },
    {
      "cell_type": "code",
      "metadata": {
        "id": "5I2wAC5RMwvJ"
      },
      "source": [
        "res = pd.DataFrame({'filename': test_data['filename'], 'label': predictions})  # prediction is nothing but the final predictions of your model on input features of your new unseen test data\n",
        "res.to_csv(\"submission.csv\", index = False)      # the csv file will be saved locally on the same location where this notebook is located."
      ],
      "execution_count": null,
      "outputs": []
    },
    {
      "cell_type": "markdown",
      "metadata": {
        "id": "fquFjyl6OfGz"
      },
      "source": [
        "# **OR,**\n",
        "**If you are working on Google Colab then use the below set of code to save prediction results locally**"
      ]
    },
    {
      "cell_type": "markdown",
      "metadata": {
        "id": "ILu2PfzNOqLx"
      },
      "source": [
        "## **How to save prediction results locally via colab notebook?**\n",
        "If you are working on Google Colab Notebook, execute below block of codes. A file named 'prediction_results' will be downloaded in your system."
      ]
    },
    {
      "cell_type": "code",
      "metadata": {
        "id": "FpcTFRw7NgXp"
      },
      "source": [
        "res = pd.DataFrame({'filename': test_data['filename'], 'label': predictions_label})  # prediction is nothing but the final predictions of your model on input features of your new unseen test data\n",
        "res.to_csv(\"submission.csv\", index = False) \n",
        "\n",
        "res_vgg = pd.DataFrame({'filename': test_data['filename'], 'label': predictions_label_vgg})  # prediction is nothing but the final predictions of your model on input features of your new unseen test data\n",
        "res_vgg.to_csv(\"submission_vgg.csv\", index = False) "
      ],
      "execution_count": 40,
      "outputs": []
    },
    {
      "cell_type": "code",
      "source": [
        "# To download the csv file locally\n",
        "from google.colab import files        \n",
        "files.download('submission.csv')\n",
        "files.download('submission_vgg.csv')"
      ],
      "metadata": {
        "colab": {
          "base_uri": "https://localhost:8080/",
          "height": 51
        },
        "id": "IrP9FBmy001Y",
        "outputId": "ebb02ebb-1301-4066-a69f-3c46cea23c73"
      },
      "execution_count": 41,
      "outputs": [
        {
          "output_type": "display_data",
          "data": {
            "text/plain": [
              "<IPython.core.display.Javascript object>"
            ],
            "application/javascript": [
              "\n",
              "    async function download(id, filename, size) {\n",
              "      if (!google.colab.kernel.accessAllowed) {\n",
              "        return;\n",
              "      }\n",
              "      const div = document.createElement('div');\n",
              "      const label = document.createElement('label');\n",
              "      label.textContent = `Downloading \"${filename}\": `;\n",
              "      div.appendChild(label);\n",
              "      const progress = document.createElement('progress');\n",
              "      progress.max = size;\n",
              "      div.appendChild(progress);\n",
              "      document.body.appendChild(div);\n",
              "\n",
              "      const buffers = [];\n",
              "      let downloaded = 0;\n",
              "\n",
              "      const channel = await google.colab.kernel.comms.open(id);\n",
              "      // Send a message to notify the kernel that we're ready.\n",
              "      channel.send({})\n",
              "\n",
              "      for await (const message of channel.messages) {\n",
              "        // Send a message to notify the kernel that we're ready.\n",
              "        channel.send({})\n",
              "        if (message.buffers) {\n",
              "          for (const buffer of message.buffers) {\n",
              "            buffers.push(buffer);\n",
              "            downloaded += buffer.byteLength;\n",
              "            progress.value = downloaded;\n",
              "          }\n",
              "        }\n",
              "      }\n",
              "      const blob = new Blob(buffers, {type: 'application/binary'});\n",
              "      const a = document.createElement('a');\n",
              "      a.href = window.URL.createObjectURL(blob);\n",
              "      a.download = filename;\n",
              "      div.appendChild(a);\n",
              "      a.click();\n",
              "      div.remove();\n",
              "    }\n",
              "  "
            ]
          },
          "metadata": {}
        },
        {
          "output_type": "display_data",
          "data": {
            "text/plain": [
              "<IPython.core.display.Javascript object>"
            ],
            "application/javascript": [
              "download(\"download_28f4dbd7-5035-4254-b19e-39bc0e02e2f6\", \"submission.csv\", 46992)"
            ]
          },
          "metadata": {}
        },
        {
          "output_type": "display_data",
          "data": {
            "text/plain": [
              "<IPython.core.display.Javascript object>"
            ],
            "application/javascript": [
              "\n",
              "    async function download(id, filename, size) {\n",
              "      if (!google.colab.kernel.accessAllowed) {\n",
              "        return;\n",
              "      }\n",
              "      const div = document.createElement('div');\n",
              "      const label = document.createElement('label');\n",
              "      label.textContent = `Downloading \"${filename}\": `;\n",
              "      div.appendChild(label);\n",
              "      const progress = document.createElement('progress');\n",
              "      progress.max = size;\n",
              "      div.appendChild(progress);\n",
              "      document.body.appendChild(div);\n",
              "\n",
              "      const buffers = [];\n",
              "      let downloaded = 0;\n",
              "\n",
              "      const channel = await google.colab.kernel.comms.open(id);\n",
              "      // Send a message to notify the kernel that we're ready.\n",
              "      channel.send({})\n",
              "\n",
              "      for await (const message of channel.messages) {\n",
              "        // Send a message to notify the kernel that we're ready.\n",
              "        channel.send({})\n",
              "        if (message.buffers) {\n",
              "          for (const buffer of message.buffers) {\n",
              "            buffers.push(buffer);\n",
              "            downloaded += buffer.byteLength;\n",
              "            progress.value = downloaded;\n",
              "          }\n",
              "        }\n",
              "      }\n",
              "      const blob = new Blob(buffers, {type: 'application/binary'});\n",
              "      const a = document.createElement('a');\n",
              "      a.href = window.URL.createObjectURL(blob);\n",
              "      a.download = filename;\n",
              "      div.appendChild(a);\n",
              "      a.click();\n",
              "      div.remove();\n",
              "    }\n",
              "  "
            ]
          },
          "metadata": {}
        },
        {
          "output_type": "display_data",
          "data": {
            "text/plain": [
              "<IPython.core.display.Javascript object>"
            ],
            "application/javascript": [
              "download(\"download_1f739c59-107c-4f4f-a52e-f90dc988650f\", \"submission_vgg.csv\", 47118)"
            ]
          },
          "metadata": {}
        }
      ]
    },
    {
      "cell_type": "markdown",
      "metadata": {
        "id": "NohZiMIkO_tX"
      },
      "source": [
        "# **Well Done! 👍**\n",
        "You are all set to make a submission. Let's head to the **[challenge page](https://dphi.tech/challenges/4-week-deep-learning-online-bootcamp-final-assignment-sex-determination-by-morphometry-of-eyes/144/submit)** to make the submission."
      ]
    }
  ]
}